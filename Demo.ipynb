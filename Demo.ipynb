{
 "cells": [
  {
   "cell_type": "code",
   "execution_count": 3,
   "id": "1025ef6f",
   "metadata": {},
   "outputs": [
    {
     "name": "stdout",
     "output_type": "stream",
     "text": [
      "Hello world\n",
      "10\n",
      "Add something\n",
      "John\n",
      "i is not greater than 30\n",
      "i is not greater than 30\n",
      "i is greater than 30\n",
      "i is greater than 30\n",
      "Goodbye world\n",
      "Hello, John!\n",
      "[20 30 40 50]\n",
      "   name  age\n",
      "0  John   25\n",
      "<module 'numpy.version' from '/opt/miniconda3/lib/python3.13/site-packages/numpy/version.py'>\n",
      "5x5 Array of Zeros:\n",
      "[[0. 0. 0. 0. 0.]\n",
      " [0. 0. 0. 0. 0.]\n",
      " [0. 0. 0. 0. 0.]\n",
      " [0. 0. 0. 0. 0.]\n",
      " [0. 0. 0. 0. 0.]]\n",
      "\n",
      "3x3 Identity Matrix:\n",
      "[[1. 0. 0.]\n",
      " [0. 1. 0.]\n",
      " [0. 0. 1.]]\n"
     ]
    }
   ],
   "source": [
    "import numpy as np\n",
    "import pandas as pd\n",
    "\n",
    "print(\"Hello world\")\n",
    "i = 10\n",
    "a = \"Add something\"\n",
    "b = [20, 30, 40]\n",
    "c = (1, 2, 3)\n",
    "print(i)\n",
    "print(a)\n",
    "b.append(50)\n",
    "employees = {\"name\": \"John\", \"age\": 25}\n",
    "print(employees[\"name\"])\n",
    "\n",
    "for item in b:\n",
    "    if item > 30:\n",
    "        print(\"i is greater than 30\")\n",
    "    else:\n",
    "        print(\"i is not greater than 30\")\n",
    "print(\"Goodbye world\")\n",
    "\n",
    "def greet(name = \"world\"):\n",
    "    return f\"Hello, {name}!\"\n",
    "print(greet(employees[\"name\"]))\n",
    "\n",
    "print(np.array(b))\n",
    "print(pd.DataFrame([employees]))\n",
    "print(np.version)\n",
    "#Create a 1D array of numbers from 10 to 19.\n",
    "array_1d = np.arange(10, 20)\n",
    "#Create a 5×5 array filled with zeros, and a 3×3 identity matrix.\n",
    "array_zeros = np.zeros((5, 5))\n",
    "identity_matrix = np.identity(3)\n",
    "print(\"5x5 Array of Zeros:\")\n",
    "print(array_zeros)\n",
    "\n",
    "print(\"\\n3x3 Identity Matrix:\")\n",
    "print(identity_matrix)"
   ]
  },
  {
   "cell_type": "code",
   "execution_count": 13,
   "id": "9f103a2d",
   "metadata": {},
   "outputs": [
    {
     "name": "stdout",
     "output_type": "stream",
     "text": [
      "[ 69  89  79  64  33  70 100  66  43  23]\n"
     ]
    }
   ],
   "source": [
    "random_integers = np.random.randint(1, 101, size=10)\n",
    "print(random_integers)"
   ]
  },
  {
   "cell_type": "code",
   "execution_count": 29,
   "id": "de5a73cf",
   "metadata": {},
   "outputs": [
    {
     "name": "stdout",
     "output_type": "stream",
     "text": [
      "Element-wise Square Root:\n",
      "[2. 3. 4. 5.]\n",
      "Element-wise Power (squared):\n",
      "[ 16  81 256 625]\n",
      "Even Numbers:\n",
      "[ 9 25]\n",
      "Array after replacing numbers greater than 10 with -1:\n",
      "[ 4  9 -1 -1]\n",
      "Reversed Array:\n",
      "[-1 -1  9  4]\n",
      "Reversed Array (using np.flip):\n",
      "[-1 -1  9  4]\n"
     ]
    }
   ],
   "source": [
    "arr = np.array([4, 9, 16, 25])\n",
    "# arr = arr + 5\n",
    "# print(arr)\n",
    "#Compute element-wise square root and power.\n",
    "sqrt_arr = np.sqrt(arr)\n",
    "power_arr = np.power(arr, 2)\n",
    "print(\"Element-wise Square Root:\")\n",
    "print(sqrt_arr)\n",
    "print(\"Element-wise Power (squared):\")\n",
    "print(power_arr)\n",
    "\n",
    "# Extract all even numbers from arr.\n",
    "even_numbers = arr[arr % 2 != 0]\n",
    "print(\"Even Numbers:\")\n",
    "print(even_numbers)\n",
    "# Replace all numbers greater than 10 with -1.\n",
    "arr[arr > 10] = -1\n",
    "print(\"Array after replacing numbers greater than 10 with -1:\")\n",
    "print(arr)\n",
    "# Reverse an array\n",
    "reversed_arr = arr[::-1]\n",
    "print(\"Reversed Array:\")   \n",
    "print(reversed_arr)\n",
    "# Reverse an array without using [::-1]\n",
    "reversed_arr_alt = np.flip(arr)\n",
    "print(\"Reversed Array (using np.flip):\")\n",
    "print(reversed_arr_alt)"
   ]
  },
  {
   "cell_type": "code",
   "execution_count": 41,
   "id": "9c1d7546",
   "metadata": {},
   "outputs": [
    {
     "name": "stdout",
     "output_type": "stream",
     "text": [
      "[ 1  2  3  4  5  6  7  8  9 10 11 12 13 14 15 16 17 18 19 20 21 22 23 24\n",
      " 25]\n",
      "[[ 1  2  3  4  5]\n",
      " [ 6  7  8  9 10]\n",
      " [11 12 13 14 15]\n",
      " [16 17 18 19 20]\n",
      " [21 22 23 24 25]]\n",
      "[ 1  2  3  4  5  6  7  8  9 10 11 12 13 14 15 16 17 18 19 20 21 22 23 24\n",
      " 25]\n",
      "Maximum Value in the Matrix: 25\n",
      "Minimum Value in the Matrix: 1\n"
     ]
    }
   ],
   "source": [
    "array_1d_25 = np.arange(1,26)\n",
    "print(array_1d_25)\n",
    "#Reshape it into a 5×5 matrix.  \n",
    "matrix_5x5 = array_1d_25.reshape(5, 5)\n",
    "print(matrix_5x5)\n",
    "flat_matrix = matrix_5x5.flatten()\n",
    "print(flat_matrix)\n",
    "#Find the maximum and minimum values in the matrix.\n",
    "max_value = matrix_5x5.max()\n",
    "min_value = matrix_5x5.min()\n",
    "print(\"Maximum Value in the Matrix:\", max_value)\n",
    "print(\"Minimum Value in the Matrix:\", min_value)"
   ]
  },
  {
   "cell_type": "code",
   "execution_count": 54,
   "id": "6fa94cbd",
   "metadata": {},
   "outputs": [
    {
     "name": "stdout",
     "output_type": "stream",
     "text": [
      "[170.63050868 -76.84094439  50.4821332   25.85522117 109.18252805\n",
      " -39.17868232 155.34765029  45.33721006 -38.4545151  -27.4222548 ]\n",
      "Mean: 37.49388548490826\n",
      "Median: 35.59621561922197\n",
      "Standard Deviation: 81.27312188309571\n",
      "Minimum Value: -76.8409443851264\n",
      "Maximum Value: 170.6305086777612\n"
     ]
    }
   ],
   "source": [
    "random_normal = np.random.normal(loc=50, scale=100, size=10)\n",
    "print(random_normal)\n",
    "# Find mean, median, standard deviation, min, max.\n",
    "mean_value = np.mean(random_normal)\n",
    "median_value = np.median(random_normal)\n",
    "std_deviation = np.std(random_normal)\n",
    "min_value = np.min(random_normal)\n",
    "max_value = np.max(random_normal)\n",
    "print(\"Mean:\", mean_value)\n",
    "print(\"Median:\", median_value)\n",
    "print(\"Standard Deviation:\", std_deviation)\n",
    "print(\"Minimum Value:\", min_value)\n",
    "print(\"Maximum Value:\", max_value) "
   ]
  },
  {
   "cell_type": "code",
   "execution_count": 4,
   "id": "2cb3d511",
   "metadata": {},
   "outputs": [
    {
     "name": "stdout",
     "output_type": "stream",
     "text": [
      "Result using @ operator:\n",
      "[[ 30  24  18]\n",
      " [ 84  69  54]\n",
      " [138 114  90]]\n",
      "Result using np.dot:\n",
      "[[ 30  24  18]\n",
      " [ 84  69  54]\n",
      " [138 114  90]]\n",
      "Transpose of Matrix A:\n",
      "[[1 4 7]\n",
      " [2 5 8]\n",
      " [3 6 9]]\n",
      "Determinant of Matrix A:\n",
      "-9.51619735392994e-16\n"
     ]
    }
   ],
   "source": [
    "# Create two 3x3 matrices\n",
    "matrix_a = np.array([[1, 2, 3],\n",
    "                     [4, 5, 6],\n",
    "                     [7, 8, 9]])\n",
    "matrix_b = np.array([[9, 8, 7],\n",
    "                     [6, 5, 4],\n",
    "                     [3, 2, 1]])\n",
    "\n",
    "# Multiply using @ operator\n",
    "result_at = matrix_a @ matrix_b\n",
    "print(\"Result using @ operator:\")\n",
    "print(result_at)\n",
    "\n",
    "# Multiply using np.dot\n",
    "result_dot = np.dot(matrix_a, matrix_b)\n",
    "print(\"Result using np.dot:\")\n",
    "print(result_dot)\n",
    "# Compute transpose and determinant.\n",
    "transpose_a = np.transpose(matrix_a)\n",
    "determinant_a = np.linalg.det(matrix_a)\n",
    "print(\"Transpose of Matrix A:\")     \n",
    "print(transpose_a)\n",
    "print(\"Determinant of Matrix A:\")\n",
    "print(determinant_a)"
   ]
  }
 ],
 "metadata": {
  "kernelspec": {
   "display_name": "base",
   "language": "python",
   "name": "python3"
  },
  "language_info": {
   "codemirror_mode": {
    "name": "ipython",
    "version": 3
   },
   "file_extension": ".py",
   "mimetype": "text/x-python",
   "name": "python",
   "nbconvert_exporter": "python",
   "pygments_lexer": "ipython3",
   "version": "3.13.5"
  }
 },
 "nbformat": 4,
 "nbformat_minor": 5
}
