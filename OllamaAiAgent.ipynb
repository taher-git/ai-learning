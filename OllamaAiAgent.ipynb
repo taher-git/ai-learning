{
 "cells": [
  {
   "cell_type": "code",
   "execution_count": null,
   "id": "3291c14f",
   "metadata": {},
   "outputs": [],
   "source": [
    "import subprocess\n",
    "import json\n",
    "\n",
    "def local_ai_agent(prompt):\n",
    "    # Run llama3 locally via ollama\n",
    "    result = subprocess.run(\n",
    "        [\"ollama\", \"run\", \"llama3\"],\n",
    "        input=prompt.encode(\"utf-8\"),\n",
    "        capture_output=True\n",
    "    )\n",
    "    return result.stdout.decode(\"utf-8\")\n",
    "\n",
    "# Example usage\n",
    "while True:\n",
    "    user_input = input(\"\\nYou: \")\n",
    "    if user_input.lower() in [\"exit\", \"quit\"]:\n",
    "        break\n",
    "    response = local_ai_agent(user_input)\n",
    "    print(\"Agent:\", response.strip())\n"
   ]
  }
 ],
 "metadata": {
  "kernelspec": {
   "display_name": "base",
   "language": "python",
   "name": "python3"
  },
  "language_info": {
   "codemirror_mode": {
    "name": "ipython",
    "version": 3
   },
   "file_extension": ".py",
   "mimetype": "text/x-python",
   "name": "python",
   "nbconvert_exporter": "python",
   "pygments_lexer": "ipython3",
   "version": "3.13.5"
  }
 },
 "nbformat": 4,
 "nbformat_minor": 5
}
