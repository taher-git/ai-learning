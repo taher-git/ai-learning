{
 "cells": [
  {
   "cell_type": "code",
   "execution_count": 3,
   "id": "e8b047bb",
   "metadata": {},
   "outputs": [
    {
     "name": "stdout",
     "output_type": "stream",
     "text": [
      "label\n",
      "Spam           79701\n",
      "Billing        72093\n",
      "Social         25934\n",
      "Personal        8470\n",
      "Work            5405\n",
      "Technical       5336\n",
      "Promotional     3061\n",
      "Name: count, dtype: int64\n"
     ]
    }
   ],
   "source": [
    "import pandas as pd\n",
    "\n",
    "df = pd.read_csv(\"data/emails_labeled.csv\")\n",
    "df.head()\n",
    "print(df['label'].value_counts())\n"
   ]
  },
  {
   "cell_type": "code",
   "execution_count": 4,
   "id": "2c6cae8e",
   "metadata": {},
   "outputs": [],
   "source": [
    "from sklearn.model_selection import train_test_split\n",
    "from sklearn.naive_bayes import MultinomialNB\n",
    "\n",
    "X = df['message']      # features (email text)\n",
    "y = df['label']     # target (category)\n",
    "\n",
    "X_train, X_test, y_train, y_test = train_test_split(X, y, test_size=0.2, random_state=42)\n",
    "\n"
   ]
  },
  {
   "cell_type": "code",
   "execution_count": 6,
   "id": "aa86d005",
   "metadata": {},
   "outputs": [
    {
     "name": "stdout",
     "output_type": "stream",
     "text": [
      "Naive Bayes Accuracy: 0.625775\n"
     ]
    }
   ],
   "source": [
    "from sklearn.feature_extraction.text import TfidfVectorizer\n",
    "\n",
    "vectorizer = TfidfVectorizer(stop_words='english')  \n",
    "X_train_tfidf = vectorizer.fit_transform(X_train)\n",
    "X_test_tfidf = vectorizer.transform(X_test)\n",
    "\n",
    "nb_model = MultinomialNB()\n",
    "nb_model.fit(X_train_tfidf, y_train)\n",
    "\n",
    "# Evaluate\n",
    "print(\"Naive Bayes Accuracy:\", nb_model.score(X_test_tfidf, y_test))"
   ]
  },
  {
   "cell_type": "code",
   "execution_count": 7,
   "id": "4aae276b",
   "metadata": {},
   "outputs": [
    {
     "name": "stdout",
     "output_type": "stream",
     "text": [
      "Logistic Regression Accuracy: 0.863975\n"
     ]
    }
   ],
   "source": [
    "from sklearn.linear_model import LogisticRegression\n",
    "\n",
    "lr_model = LogisticRegression(max_iter=1000)\n",
    "lr_model.fit(X_train_tfidf, y_train)\n",
    "\n",
    "# Evaluate\n",
    "print(\"Logistic Regression Accuracy:\", lr_model.score(X_test_tfidf, y_test))\n"
   ]
  },
  {
   "cell_type": "code",
   "execution_count": 8,
   "id": "6161faf6",
   "metadata": {},
   "outputs": [
    {
     "name": "stdout",
     "output_type": "stream",
     "text": [
      "Naive Bayes Prediction: ['Billing' 'Billing' 'Spam' 'Billing' 'Billing' 'Spam' 'Spam' 'Billing'\n",
      " 'Billing' 'Billing' 'Billing']\n",
      "LogReg Prediction: ['Spam' 'Billing' 'Personal' 'Billing' 'Technical' 'Billing' 'Personal'\n",
      " 'Spam' 'Billing' 'Billing' 'Spam']\n"
     ]
    }
   ],
   "source": [
    "sample = [\"I can’t log into my account, please help!\",\n",
    "          \"Your invoice for the month is attached.\", \n",
    "          \"Let's have lunch tomorrow.\",\n",
    "          \"There was an error processing your payment.\",\n",
    "          \"I am facing issues with the new update.\",\n",
    "          \"Congratulations! You've won a free trip to Bahamas! Click here to claim.\",\n",
    "          \"Don't forget our meeting next week.\",\n",
    "          \"This is not spam, just a regular email.\",\n",
    "          \"Your subscription will expire soon, renew now to continue enjoying our services.\",\n",
    "          \"Win a brand new car by entering our contest! Limited time offer!\",\n",
    "            \"Get rich quick with this one simple trick!\"]\n",
    "sample_tfidf = vectorizer.transform(sample)\n",
    "\n",
    "print(\"Naive Bayes Prediction:\", nb_model.predict(sample_tfidf))\n",
    "print(\"LogReg Prediction:\", lr_model.predict(sample_tfidf))\n"
   ]
  }
 ],
 "metadata": {
  "kernelspec": {
   "display_name": "base",
   "language": "python",
   "name": "python3"
  },
  "language_info": {
   "codemirror_mode": {
    "name": "ipython",
    "version": 3
   },
   "file_extension": ".py",
   "mimetype": "text/x-python",
   "name": "python",
   "nbconvert_exporter": "python",
   "pygments_lexer": "ipython3",
   "version": "3.13.5"
  }
 },
 "nbformat": 4,
 "nbformat_minor": 5
}
