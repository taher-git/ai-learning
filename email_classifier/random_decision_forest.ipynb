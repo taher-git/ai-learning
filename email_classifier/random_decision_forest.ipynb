{
 "cells": [
  {
   "cell_type": "code",
   "execution_count": 4,
   "id": "5ea1cbe7",
   "metadata": {},
   "outputs": [
    {
     "name": "stdout",
     "output_type": "stream",
     "text": [
      "Index(['Subject', 'Message'], dtype='object')\n",
      "(5572, 2)\n",
      "Subject\n",
      "ham     4825\n",
      "spam     747\n",
      "Name: count, dtype: int64\n"
     ]
    }
   ],
   "source": [
    "# step0_imports.py\n",
    "import os\n",
    "import pandas as pd\n",
    "import numpy as np\n",
    "\n",
    "from sklearn.model_selection import train_test_split, cross_val_score, RandomizedSearchCV\n",
    "from sklearn.feature_extraction.text import TfidfVectorizer\n",
    "from sklearn.decomposition import TruncatedSVD\n",
    "from sklearn.pipeline import Pipeline\n",
    "from sklearn.tree import DecisionTreeClassifier, plot_tree\n",
    "from sklearn.ensemble import RandomForestClassifier\n",
    "from sklearn.metrics import classification_report, confusion_matrix\n",
    "import joblib\n",
    "import matplotlib.pyplot as plt\n",
    "from sklearn.metrics import accuracy_score\n",
    "\n",
    "# Load dataset\n",
    "df = pd.read_csv(\"data/emails_spam_labeled.csv\")  # adjust as needed\n",
    "# Inspect columns\n",
    "print(df.columns)\n",
    "print(df.shape)\n",
    "print(df['Subject'].value_counts())   # or whatever label column is called"
   ]
  },
  {
   "cell_type": "code",
   "execution_count": 6,
   "id": "d95afd65",
   "metadata": {},
   "outputs": [
    {
     "data": {
      "text/html": [
       "<div>\n",
       "<style scoped>\n",
       "    .dataframe tbody tr th:only-of-type {\n",
       "        vertical-align: middle;\n",
       "    }\n",
       "\n",
       "    .dataframe tbody tr th {\n",
       "        vertical-align: top;\n",
       "    }\n",
       "\n",
       "    .dataframe thead th {\n",
       "        text-align: right;\n",
       "    }\n",
       "</style>\n",
       "<table border=\"1\" class=\"dataframe\">\n",
       "  <thead>\n",
       "    <tr style=\"text-align: right;\">\n",
       "      <th></th>\n",
       "      <th>Subject</th>\n",
       "      <th>Message</th>\n",
       "      <th>text</th>\n",
       "      <th>label</th>\n",
       "    </tr>\n",
       "  </thead>\n",
       "  <tbody>\n",
       "    <tr>\n",
       "      <th>0</th>\n",
       "      <td>ham</td>\n",
       "      <td>Go until jurong point, crazy.. Available only ...</td>\n",
       "      <td>ham Go until jurong point, crazy.. Available o...</td>\n",
       "      <td>0</td>\n",
       "    </tr>\n",
       "    <tr>\n",
       "      <th>1</th>\n",
       "      <td>ham</td>\n",
       "      <td>Ok lar... Joking wif u oni...</td>\n",
       "      <td>ham Ok lar... Joking wif u oni...</td>\n",
       "      <td>0</td>\n",
       "    </tr>\n",
       "    <tr>\n",
       "      <th>2</th>\n",
       "      <td>spam</td>\n",
       "      <td>Free entry in 2 a wkly comp to win FA Cup fina...</td>\n",
       "      <td>spam Free entry in 2 a wkly comp to win FA Cup...</td>\n",
       "      <td>1</td>\n",
       "    </tr>\n",
       "    <tr>\n",
       "      <th>3</th>\n",
       "      <td>ham</td>\n",
       "      <td>U dun say so early hor... U c already then say...</td>\n",
       "      <td>ham U dun say so early hor... U c already then...</td>\n",
       "      <td>0</td>\n",
       "    </tr>\n",
       "    <tr>\n",
       "      <th>4</th>\n",
       "      <td>ham</td>\n",
       "      <td>Nah I don't think he goes to usf, he lives aro...</td>\n",
       "      <td>ham Nah I don't think he goes to usf, he lives...</td>\n",
       "      <td>0</td>\n",
       "    </tr>\n",
       "  </tbody>\n",
       "</table>\n",
       "</div>"
      ],
      "text/plain": [
       "  Subject                                            Message  \\\n",
       "0     ham  Go until jurong point, crazy.. Available only ...   \n",
       "1     ham                      Ok lar... Joking wif u oni...   \n",
       "2    spam  Free entry in 2 a wkly comp to win FA Cup fina...   \n",
       "3     ham  U dun say so early hor... U c already then say...   \n",
       "4     ham  Nah I don't think he goes to usf, he lives aro...   \n",
       "\n",
       "                                                text  label  \n",
       "0  ham Go until jurong point, crazy.. Available o...      0  \n",
       "1                  ham Ok lar... Joking wif u oni...      0  \n",
       "2  spam Free entry in 2 a wkly comp to win FA Cup...      1  \n",
       "3  ham U dun say so early hor... U c already then...      0  \n",
       "4  ham Nah I don't think he goes to usf, he lives...      0  "
      ]
     },
     "execution_count": 6,
     "metadata": {},
     "output_type": "execute_result"
    }
   ],
   "source": [
    "# create single text column\n",
    "df['text'] = df['Subject'].fillna('') + \" \" + df['Message'].fillna('')\n",
    "# map labels to integers (spam=1, ham=0) or to strings depending on preference\n",
    "df['label'] = np.where(df['Subject'].str.lower().str.contains('spam'), 1, 0)\n",
    "df.head()"
   ]
  },
  {
   "cell_type": "code",
   "execution_count": 7,
   "id": "3df9a65f",
   "metadata": {},
   "outputs": [],
   "source": [
    "X_train, X_test, y_train, y_test = train_test_split(\n",
    "    df['text'], df['label'], test_size=0.2, random_state=42, stratify=df['label']\n",
    ")"
   ]
  },
  {
   "cell_type": "code",
   "execution_count": 8,
   "id": "dc5f7a09",
   "metadata": {},
   "outputs": [
    {
     "name": "stdout",
     "output_type": "stream",
     "text": [
      "              precision    recall  f1-score   support\n",
      "\n",
      "           0       1.00      1.00      1.00       966\n",
      "           1       1.00      1.00      1.00       149\n",
      "\n",
      "    accuracy                           1.00      1115\n",
      "   macro avg       1.00      1.00      1.00      1115\n",
      "weighted avg       1.00      1.00      1.00      1115\n",
      "\n",
      "[[966   0]\n",
      " [  0 149]]\n"
     ]
    }
   ],
   "source": [
    "pipe_tree = Pipeline([\n",
    "    ('tfidf', TfidfVectorizer(stop_words='english', max_features=5000, ngram_range=(1,2))),\n",
    "    ('clf', DecisionTreeClassifier(random_state=42))\n",
    "])\n",
    "pipe_tree.fit(X_train, y_train)\n",
    "y_pred = pipe_tree.predict(X_test)\n",
    "\n",
    "print(classification_report(y_test, y_pred))\n",
    "print(confusion_matrix(y_test, y_pred))\n"
   ]
  },
  {
   "cell_type": "code",
   "execution_count": 9,
   "id": "e087ade0",
   "metadata": {},
   "outputs": [
    {
     "name": "stdout",
     "output_type": "stream",
     "text": [
      "              precision    recall  f1-score   support\n",
      "\n",
      "           0       0.99      1.00      1.00       966\n",
      "           1       1.00      0.97      0.98       149\n",
      "\n",
      "    accuracy                           1.00      1115\n",
      "   macro avg       1.00      0.98      0.99      1115\n",
      "weighted avg       1.00      1.00      1.00      1115\n",
      "\n",
      "[[966   0]\n",
      " [  5 144]]\n",
      "RF accuracy: 0.9955156950672646\n"
     ]
    }
   ],
   "source": [
    "pipe_rf = Pipeline([\n",
    "    ('tfidf', TfidfVectorizer(stop_words='english', max_features=10000, ngram_range=(1,2))),\n",
    "    ('svd', TruncatedSVD(n_components=200, random_state=42)),\n",
    "    ('clf', RandomForestClassifier(n_estimators=200, n_jobs=-1, random_state=42))\n",
    "])\n",
    "pipe_rf.fit(X_train, y_train)\n",
    "y_pred_rf = pipe_rf.predict(X_test)\n",
    "\n",
    "print(classification_report(y_test, y_pred_rf))\n",
    "print(confusion_matrix(y_test, y_pred_rf))\n",
    "print(\"RF accuracy:\", accuracy_score(y_test, y_pred_rf))"
   ]
  },
  {
   "cell_type": "code",
   "execution_count": 10,
   "id": "8f2dee07",
   "metadata": {},
   "outputs": [
    {
     "name": "stdout",
     "output_type": "stream",
     "text": [
      "Best params: {'tfidf__max_features': 2000, 'svd__n_components': 50, 'clf__n_estimators': 100, 'clf__max_features': 'sqrt', 'clf__max_depth': None}\n",
      "Best f1: 0.9974810764284449\n"
     ]
    }
   ],
   "source": [
    "param_dist = {\n",
    "    'tfidf__max_features': [2000, 5000, 10000],\n",
    "    'svd__n_components': [50, 100, 200],\n",
    "    'clf__n_estimators': [50, 100, 200],\n",
    "    'clf__max_depth': [None, 20, 50],\n",
    "    'clf__max_features': ['sqrt', 0.2, 0.5],\n",
    "}\n",
    "\n",
    "rs = RandomizedSearchCV(pipe_rf, param_dist, n_iter=12, cv=3, scoring='f1', n_jobs=-1, random_state=42)\n",
    "rs.fit(X_train, y_train)\n",
    "print(\"Best params:\", rs.best_params_)\n",
    "print(\"Best f1:\", rs.best_score_)\n"
   ]
  },
  {
   "cell_type": "code",
   "execution_count": 11,
   "id": "f4e4c6e5",
   "metadata": {},
   "outputs": [
    {
     "name": "stdout",
     "output_type": "stream",
     "text": [
      "ham 1.0\n",
      "yup having 0.0\n",
      "yup 0.0\n",
      "yuo raed 0.0\n",
      "0808 0.0\n",
      "ym 0.0\n",
      "03 0.0\n",
      "03 2nd 0.0\n",
      "yup thk 0.0\n",
      "yuo 0.0\n",
      "yunny 0.0\n",
      "yun ah 0.0\n",
      "yun 0.0\n",
      "yummy 0.0\n",
      "yrs 0.0\n",
      "yr prize 0.0\n",
      "yr 0.0\n",
      "yor 0.0\n",
      "yogasana 0.0\n",
      "yoga 0.0\n"
     ]
    }
   ],
   "source": [
    "vect = pipe_tree.named_steps['tfidf']\n",
    "clf = pipe_tree.named_steps['clf']\n",
    "feature_names = vect.get_feature_names_out()\n",
    "importances = clf.feature_importances_\n",
    "top_idx = np.argsort(importances)[-20:]\n",
    "for i in reversed(top_idx):\n",
    "    print(feature_names[i], importances[i])\n"
   ]
  },
  {
   "cell_type": "code",
   "execution_count": 12,
   "id": "63c60d7d",
   "metadata": {},
   "outputs": [
    {
     "data": {
      "image/png": "[encoded data removed]",
      "text/plain": [
       "<Figure size 1400x800 with 1 Axes>"
      ]
     },
     "metadata": {},
     "output_type": "display_data"
    }
   ],
   "source": [
    "small_tree = DecisionTreeClassifier(max_depth=3, random_state=42)\n",
    "pipeline_small = Pipeline([('tfidf', TfidfVectorizer(max_features=2000)), ('clf', small_tree)])\n",
    "pipeline_small.fit(X_train, y_train)\n",
    "\n",
    "clf_small = pipeline_small.named_steps['clf']\n",
    "plt.figure(figsize=(14,8))\n",
    "plot_tree(clf_small, filled=True, max_depth=3, fontsize=8)\n",
    "plt.show()\n"
   ]
  },
  {
   "cell_type": "code",
   "execution_count": 13,
   "id": "936e682c",
   "metadata": {},
   "outputs": [
    {
     "name": "stdout",
     "output_type": "stream",
     "text": [
      "[0 0 1]\n"
     ]
    }
   ],
   "source": [
    "joblib.dump(pipe_rf, \"models/rf_pipeline.joblib\")\n",
    "\n",
    "# later, in your web app\n",
    "model = joblib.load(\"models/rf_pipeline.joblib\")\n",
    "pred = model.predict([\"Please reset my password\",\"Congratulations, you've won a lottery!\",\"Can you please send me ticket ID\"] )\n",
    "print(pred)  # 0 or 1"
   ]
  },
  {
   "cell_type": "code",
   "execution_count": 14,
   "id": "c4c90021",
   "metadata": {},
   "outputs": [
    {
     "name": "stdout",
     "output_type": "stream",
     "text": [
      "              precision    recall  f1-score   support\n",
      "\n",
      "         ham       0.99      1.00      1.00       966\n",
      "        spam       1.00      0.97      0.98       149\n",
      "\n",
      "    accuracy                           1.00      1115\n",
      "   macro avg       1.00      0.98      0.99      1115\n",
      "weighted avg       1.00      1.00      1.00      1115\n",
      "\n"
     ]
    },
    {
     "data": {
      "image/png": "[encoded data removed]",
      "text/plain": [
       "<Figure size 640x480 with 2 Axes>"
      ]
     },
     "metadata": {},
     "output_type": "display_data"
    }
   ],
   "source": [
    "\n",
    "import seaborn as sns\n",
    "\n",
    "# Predictions\n",
    "y_pred = model.predict(X_test)\n",
    "\n",
    "# Classification report\n",
    "print(classification_report(y_test, y_pred, target_names=[\"ham\", \"spam\"]))\n",
    "\n",
    "# Confusion matrix\n",
    "cm = confusion_matrix(y_test, y_pred)\n",
    "\n",
    "# Pretty plot\n",
    "sns.heatmap(cm, annot=True, fmt=\"d\", cmap=\"Blues\",\n",
    "            xticklabels=[\"ham\", \"spam\"],\n",
    "            yticklabels=[\"ham\", \"spam\"])\n",
    "plt.xlabel(\"Predicted\")\n",
    "plt.ylabel(\"Actual\")\n",
    "plt.show()\n"
   ]
  }
 ],
 "metadata": {
  "kernelspec": {
   "display_name": "base",
   "language": "python",
   "name": "python3"
  },
  "language_info": {
   "codemirror_mode": {
    "name": "ipython",
    "version": 3
   },
   "file_extension": ".py",
   "mimetype": "text/x-python",
   "name": "python",
   "nbconvert_exporter": "python",
   "pygments_lexer": "ipython3",
   "version": "3.13.5"
  }
 },
 "nbformat": 4,
 "nbformat_minor": 5
}
